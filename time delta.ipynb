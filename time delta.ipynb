{
 "cells": [
  {
   "cell_type": "code",
   "execution_count": null,
   "metadata": {},
   "outputs": [],
   "source": [
    "import datetime\n",
    "import numpy as np\n",
    "import pandas as pd\n",
    "import matplotlib.pyplot as plt\n",
    "import seaborn as sns\n",
    "import datetime\n",
    "\n",
    "df = pd.read_csv('', \n",
    "                sep = ',',\n",
    "                index_col = [0],\n",
    "                parse_dates = [''],\n",
    "                dayfirst = False,\n",
    "                infer_datetime_format = True)\n",
    "\n",
    "df = df.rename(columns = {'' : ''})"
   ]
  },
  {
   "cell_type": "code",
   "execution_count": null,
   "metadata": {},
   "outputs": [],
   "source": [
    "df_ok_sort = df.loc[df[''] == '']\n",
    "\n",
    "df_ok_sort['delta'] = (df_ok_sort['datetime']-df_ok_sort['datetime'].shift()).astype('timedelta64[s]')\n",
    "\n",
    "mask = (df_ok_sort['datetime'] > '2020-06-22') & (df_ok_sort['datetime'] < '2020-06-27')\n",
    "\n",
    "cond = (df_ok_sort['delta'] >= 120) & (df_ok_sort['delta'] <= 180) \n",
    "\n",
    "df_cond = df_ok_sort.loc[cond]\n",
    "\n",
    "df_mask = df_cond.loc[mask]"
   ]
  },
  {
   "cell_type": "code",
   "execution_count": null,
   "metadata": {},
   "outputs": [],
   "source": [
    "fig, ax = plt.subplots(1, 1, figsize = (10, 15))\n",
    "\n",
    "ax[0].plot(df_mask.datetime, df_mask.delta, 'b .')\n",
    "ax[0].grid(True)"
   ]
  }
 ],
 "metadata": {
  "kernelspec": {
   "display_name": "Python 3",
   "language": "python",
   "name": "python3"
  },
  "language_info": {
   "codemirror_mode": {
    "name": "ipython",
    "version": 3
   },
   "file_extension": ".py",
   "mimetype": "text/x-python",
   "name": "python",
   "nbconvert_exporter": "python",
   "pygments_lexer": "ipython3",
   "version": "3.7.6"
  }
 },
 "nbformat": 4,
 "nbformat_minor": 4
}
